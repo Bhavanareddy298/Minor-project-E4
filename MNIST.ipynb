{
 "cells": [
  {
   "cell_type": "code",
   "execution_count": 1,
   "id": "675962d9",
   "metadata": {},
   "outputs": [],
   "source": [
    "import tensorflow as tf\n",
    "from keras.preprocessing.image import ImageDataGenerator"
   ]
  },
  {
   "cell_type": "code",
   "execution_count": 2,
   "id": "2f94cc0d",
   "metadata": {},
   "outputs": [],
   "source": [
    "import matplotlib\n",
    "import matplotlib.pyplot as plt\n",
    "import numpy as np\n",
    "import pandas as pd\n",
    "import tensorflow.keras.utils as tku"
   ]
  },
  {
   "cell_type": "code",
   "execution_count": 3,
   "id": "3f082cfa",
   "metadata": {},
   "outputs": [
    {
     "name": "stdout",
     "output_type": "stream",
     "text": [
      "Found 37340 images belonging to 10 classes.\n"
     ]
    }
   ],
   "source": [
    "train_datagen = ImageDataGenerator(rescale = 1./255,\n",
    "                                   shear_range = 0.2,\n",
    "                                   zoom_range = 0.2,\n",
    "                                   horizontal_flip = True)\n",
    "training_set = train_datagen.flow_from_directory('/home/student/Desktop/Projects/datasets/MNIST/training_set',\n",
    "                                                 target_size = (28, 28),\n",
    "                                                 batch_size = 32,\n",
    "                                                 class_mode = 'categorical')"
   ]
  },
  {
   "cell_type": "code",
   "execution_count": 4,
   "id": "e41d84f7",
   "metadata": {},
   "outputs": [],
   "source": [
    "# Preprocessing the Test set"
   ]
  },
  {
   "cell_type": "code",
   "execution_count": 5,
   "id": "e732ee88",
   "metadata": {},
   "outputs": [
    {
     "name": "stdout",
     "output_type": "stream",
     "text": [
      "Found 4660 images belonging to 10 classes.\n"
     ]
    }
   ],
   "source": [
    "train_datagen = ImageDataGenerator(rescale = 1./255,\n",
    "                                   shear_range = 0.2,\n",
    "                                   zoom_range = 0.2,\n",
    "                                   horizontal_flip = True)\n",
    "test_set = train_datagen.flow_from_directory('/home/student/Desktop/Projects/datasets/MNIST/test_set',\n",
    "                                                 target_size = (28, 28),\n",
    "                                                 batch_size = 32,\n",
    "                                                 class_mode = 'categorical')"
   ]
  },
  {
   "cell_type": "code",
   "execution_count": 6,
   "id": "9b6bc651",
   "metadata": {},
   "outputs": [],
   "source": [
    "#Initializing CNN"
   ]
  },
  {
   "cell_type": "code",
   "execution_count": 7,
   "id": "b7097100",
   "metadata": {},
   "outputs": [],
   "source": [
    "cnn = tf.keras.models.Sequential()"
   ]
  },
  {
   "cell_type": "code",
   "execution_count": 8,
   "id": "5d9834f3",
   "metadata": {},
   "outputs": [],
   "source": [
    "#step-1 : Convolution"
   ]
  },
  {
   "cell_type": "code",
   "execution_count": 9,
   "id": "ca49e173",
   "metadata": {},
   "outputs": [],
   "source": [
    "cnn.add(tf.keras.layers.Conv2D(filters=32, kernel_size=3, activation='relu', input_shape=[28, 28, 3]))"
   ]
  },
  {
   "cell_type": "code",
   "execution_count": 10,
   "id": "53094180",
   "metadata": {},
   "outputs": [],
   "source": [
    "#step-2 : Pooling"
   ]
  },
  {
   "cell_type": "code",
   "execution_count": 11,
   "id": "b0002572",
   "metadata": {},
   "outputs": [],
   "source": [
    "cnn.add(tf.keras.layers.MaxPool2D(pool_size=2, strides=2))"
   ]
  },
  {
   "cell_type": "code",
   "execution_count": 12,
   "id": "fe500dd7",
   "metadata": {},
   "outputs": [],
   "source": [
    "# Adding a second convolutional layer"
   ]
  },
  {
   "cell_type": "code",
   "execution_count": 13,
   "id": "356d85fb",
   "metadata": {},
   "outputs": [],
   "source": [
    "cnn.add(tf.keras.layers.Conv2D(filters=32, kernel_size=3, activation='relu'))\n",
    "cnn.add(tf.keras.layers.MaxPool2D(pool_size=2, strides=2))"
   ]
  },
  {
   "cell_type": "code",
   "execution_count": 14,
   "id": "06f3c509",
   "metadata": {},
   "outputs": [],
   "source": [
    "# Step 3 - Flattening"
   ]
  },
  {
   "cell_type": "code",
   "execution_count": 15,
   "id": "2d1c49bb",
   "metadata": {},
   "outputs": [],
   "source": [
    "cnn.add(tf.keras.layers.Flatten())"
   ]
  },
  {
   "cell_type": "code",
   "execution_count": 16,
   "id": "461cef45",
   "metadata": {},
   "outputs": [],
   "source": [
    "# Step 4 - Full Connection"
   ]
  },
  {
   "cell_type": "code",
   "execution_count": 17,
   "id": "924511de",
   "metadata": {},
   "outputs": [],
   "source": [
    "cnn.add(tf.keras.layers.Dense(units=64, activation='relu'))"
   ]
  },
  {
   "cell_type": "code",
   "execution_count": 18,
   "id": "c6f7d81c",
   "metadata": {},
   "outputs": [],
   "source": [
    "# Step 5 - Output Layer"
   ]
  },
  {
   "cell_type": "code",
   "execution_count": 19,
   "id": "305188d3",
   "metadata": {},
   "outputs": [],
   "source": [
    "cnn.add(tf.keras.layers.Dense(units=10, activation='softmax'))"
   ]
  },
  {
   "cell_type": "code",
   "execution_count": 20,
   "id": "2d6b751f",
   "metadata": {},
   "outputs": [],
   "source": [
    " ## Part 3 - Training the CNN"
   ]
  },
  {
   "cell_type": "code",
   "execution_count": 21,
   "id": "1da78b2b",
   "metadata": {},
   "outputs": [],
   "source": [
    "## Compiling the CNN"
   ]
  },
  {
   "cell_type": "code",
   "execution_count": 22,
   "id": "9f288635",
   "metadata": {},
   "outputs": [],
   "source": [
    "cnn.compile(optimizer = 'adam', loss = 'categorical_crossentropy', metrics = ['accuracy'])"
   ]
  },
  {
   "cell_type": "code",
   "execution_count": null,
   "id": "dd16ff1d",
   "metadata": {},
   "outputs": [],
   "source": [
    "# Training the CNN on the Training set and evaluating it on the Test "
   ]
  },
  {
   "cell_type": "code",
   "execution_count": 24,
   "id": "76119520",
   "metadata": {
    "scrolled": true
   },
   "outputs": [
    {
     "name": "stdout",
     "output_type": "stream",
     "text": [
      "Epoch 1/20\n",
      "1167/1167 [==============================] - 612s 521ms/step - loss: 0.3840 - accuracy: 0.8765 - val_loss: 0.1780 - val_accuracy: 0.9509\n",
      "Epoch 2/20\n",
      "1167/1167 [==============================] - 441s 378ms/step - loss: 0.1436 - accuracy: 0.9560 - val_loss: 0.1258 - val_accuracy: 0.9603\n",
      "Epoch 3/20\n",
      "1167/1167 [==============================] - 381s 327ms/step - loss: 0.1049 - accuracy: 0.9659 - val_loss: 0.0823 - val_accuracy: 0.9742\n",
      "Epoch 4/20\n",
      "1167/1167 [==============================] - 382s 327ms/step - loss: 0.0877 - accuracy: 0.9722 - val_loss: 0.0815 - val_accuracy: 0.9738\n",
      "Epoch 5/20\n",
      "1167/1167 [==============================] - 427s 366ms/step - loss: 0.0749 - accuracy: 0.9754 - val_loss: 0.0751 - val_accuracy: 0.9753\n",
      "Epoch 6/20\n",
      "1167/1167 [==============================] - 411s 352ms/step - loss: 0.0656 - accuracy: 0.9791 - val_loss: 0.0712 - val_accuracy: 0.9781\n",
      "Epoch 7/20\n",
      "1167/1167 [==============================] - 96s 82ms/step - loss: 0.0597 - accuracy: 0.9810 - val_loss: 0.0631 - val_accuracy: 0.9822\n",
      "Epoch 8/20\n",
      "1167/1167 [==============================] - 100s 86ms/step - loss: 0.0550 - accuracy: 0.9825 - val_loss: 0.0623 - val_accuracy: 0.9792\n",
      "Epoch 9/20\n",
      "1167/1167 [==============================] - 347s 298ms/step - loss: 0.0541 - accuracy: 0.9826 - val_loss: 0.0683 - val_accuracy: 0.9788\n",
      "Epoch 10/20\n",
      "1167/1167 [==============================] - 473s 405ms/step - loss: 0.0478 - accuracy: 0.9854 - val_loss: 0.0572 - val_accuracy: 0.9800\n",
      "Epoch 11/20\n",
      "1167/1167 [==============================] - 567s 486ms/step - loss: 0.0440 - accuracy: 0.9864 - val_loss: 0.0502 - val_accuracy: 0.9843\n",
      "Epoch 12/20\n",
      "1167/1167 [==============================] - 542s 465ms/step - loss: 0.0426 - accuracy: 0.9865 - val_loss: 0.0542 - val_accuracy: 0.9833\n",
      "Epoch 13/20\n",
      "1167/1167 [==============================] - 211s 181ms/step - loss: 0.0385 - accuracy: 0.9873 - val_loss: 0.0617 - val_accuracy: 0.9811\n",
      "Epoch 14/20\n",
      "1167/1167 [==============================] - 113s 97ms/step - loss: 0.0393 - accuracy: 0.9875 - val_loss: 0.0545 - val_accuracy: 0.9830\n",
      "Epoch 15/20\n",
      "1167/1167 [==============================] - 92s 79ms/step - loss: 0.0374 - accuracy: 0.9880 - val_loss: 0.0508 - val_accuracy: 0.9822\n",
      "Epoch 16/20\n",
      "1167/1167 [==============================] - 95s 81ms/step - loss: 0.0335 - accuracy: 0.9888 - val_loss: 0.0537 - val_accuracy: 0.9830\n",
      "Epoch 17/20\n",
      "1167/1167 [==============================] - 96s 82ms/step - loss: 0.0329 - accuracy: 0.9890 - val_loss: 0.0552 - val_accuracy: 0.9815\n",
      "Epoch 18/20\n",
      "1167/1167 [==============================] - 94s 81ms/step - loss: 0.0306 - accuracy: 0.9902 - val_loss: 0.0446 - val_accuracy: 0.9854\n",
      "Epoch 19/20\n",
      "1167/1167 [==============================] - 95s 82ms/step - loss: 0.0305 - accuracy: 0.9904 - val_loss: 0.0533 - val_accuracy: 0.9848\n",
      "Epoch 20/20\n",
      "1167/1167 [==============================] - 123s 105ms/step - loss: 0.0328 - accuracy: 0.9894 - val_loss: 0.0503 - val_accuracy: 0.9852\n"
     ]
    }
   ],
   "source": [
    "trained_model = cnn.fit(x = training_set, validation_data = test_set, epochs = 20)"
   ]
  },
  {
   "cell_type": "code",
   "execution_count": 25,
   "id": "12da3077",
   "metadata": {},
   "outputs": [],
   "source": [
    " ## Part 4 - Making a single prediction"
   ]
  },
  {
   "cell_type": "code",
   "execution_count": 26,
   "id": "d2fcbbf8",
   "metadata": {},
   "outputs": [],
   "source": [
    "import numpy as np\n",
    "from keras.preprocessing import image\n",
    "test_image = image.load_img('/home/student/Desktop/Projects/datasets/MNIST/single_prediction/img_52.jpg', target_size = (28, 28))\n",
    "test_image = image.img_to_array(test_image)\n",
    "test_image = np.expand_dims(test_image, axis = 0)\n",
    "results = (cnn.predict(test_image))\n",
    "training_set.class_indices\n",
    "if results[0][0] == 1:\n",
    "  prediction = 'Zero'\n",
    "elif results[0][1] == 1:\n",
    "  prediction = 'One'\n",
    "elif results[0][2] == 1:\n",
    "  prediction = 'Two'\n",
    "elif results[0][3] == 1:\n",
    "  prediction = 'Three'\n",
    "elif results[0][4] == 1:\n",
    "  prediction = 'Four'\n",
    "elif results[0][5] == 1:\n",
    "  prediction = 'Five'\n",
    "elif results[0][6] == 1:\n",
    "  prediction = 'Six'\n",
    "elif results[0][7] == 1:\n",
    "  prediction = 'Seven'\n",
    "elif results[0][8] == 1:\n",
    "  prediction = 'Eight'\n",
    "else:\n",
    "  prediction = 'Nine'"
   ]
  },
  {
   "cell_type": "code",
   "execution_count": 27,
   "id": "023598bd",
   "metadata": {},
   "outputs": [
    {
     "name": "stdout",
     "output_type": "stream",
     "text": [
      "[[0. 0. 0. 0. 0. 0. 0. 0. 1. 0.]]\n"
     ]
    }
   ],
   "source": [
    "print(results)"
   ]
  },
  {
   "cell_type": "code",
   "execution_count": 28,
   "id": "cbe5590b",
   "metadata": {},
   "outputs": [
    {
     "name": "stdout",
     "output_type": "stream",
     "text": [
      "Eight\n"
     ]
    }
   ],
   "source": [
    "print(prediction)"
   ]
  },
  {
   "cell_type": "code",
   "execution_count": null,
   "id": "7a3e61bf",
   "metadata": {},
   "outputs": [],
   "source": []
  }
 ],
 "metadata": {
  "kernelspec": {
   "display_name": "Python 3",
   "language": "python",
   "name": "python3"
  },
  "language_info": {
   "codemirror_mode": {
    "name": "ipython",
    "version": 3
   },
   "file_extension": ".py",
   "mimetype": "text/x-python",
   "name": "python",
   "nbconvert_exporter": "python",
   "pygments_lexer": "ipython3",
   "version": "3.6.9"
  }
 },
 "nbformat": 4,
 "nbformat_minor": 5
}
